{
 "cells": [
  {
   "metadata": {
    "ExecuteTime": {
     "end_time": "2024-07-02T08:06:09.444811Z",
     "start_time": "2024-07-02T08:06:09.437757Z"
    }
   },
   "cell_type": "code",
   "source": [
    "import numpy as np\n",
    "import pandas as pd\n",
    "import matplotlib.pyplot as plt\n",
    "import seaborn as sns"
   ],
   "id": "initial_id",
   "outputs": [],
   "execution_count": 4
  },
  {
   "metadata": {},
   "cell_type": "markdown",
   "source": [
    "# Storytelling\n",
    "L'obbiettivo di questa analisi è mostrare/vedere l'impatto dei cartellini rossi e gialli sul risultato delle partite e sulla performance delle squadre"
   ],
   "id": "7d0dfc6ac3f4df89"
  },
  {
   "metadata": {
    "ExecuteTime": {
     "end_time": "2024-07-02T08:40:15.668639Z",
     "start_time": "2024-07-02T08:40:13.833840Z"
    }
   },
   "cell_type": "code",
   "source": [
    "# Load data from CSV files\n",
    "games = pd.read_csv('./data/games.csv')\n",
    "game_events = pd.read_csv('./data/game_events.csv')"
   ],
   "id": "3f8fe733c8cad6e0",
   "outputs": [],
   "execution_count": 68
  },
  {
   "metadata": {},
   "cell_type": "markdown",
   "source": [
    "## Crazione tabella \n",
    "per comodità creiamo un nuovo file che contenga le informazioni che ci interessano per fare le nostre considerazioni:\n",
    "il numero di cartellini ricevuti, il numero di goal fatti e ricevuti e il risultato della partita"
   ],
   "id": "65d53eb5db7fcba4"
  },
  {
   "metadata": {
    "ExecuteTime": {
     "end_time": "2024-07-02T08:58:20.915507Z",
     "start_time": "2024-07-02T08:40:16.476883Z"
    }
   },
   "cell_type": "code",
   "source": [
    "# funzione per contare il numero di cartellini ricevuti da una squadra durante una certa partita\n",
    "def count_cards(game_id, club_id):\n",
    "    events = game_events[(game_events['game_id'] == game_id) & (game_events['club_id'] == club_id)]\n",
    "    yellow_cards = len(events[events['type'] == 'Cards'])\n",
    "    return yellow_cards \n",
    "\n",
    "# Creiamo il nuovo dataframe che contenga i dati sopra citati\n",
    "transformed_games = []\n",
    "\n",
    "# Transform the games data\n",
    "for index, row in games.iterrows():\n",
    "    home_row = {\n",
    "        'game_id': row['game_id'],\n",
    "        'club_id': row['home_club_id'],\n",
    "        'date': row['date'],\n",
    "        'competition_id': row['competition_id'],\n",
    "        'season': row['season'],\n",
    "        'round': row['round'],\n",
    "        'goals_ricevuti': row['away_club_goals'],\n",
    "        'goals_fatti': row['home_club_goals'],\n",
    "        'numero_di_cartellini': count_cards(row['game_id'], row['home_club_id']),\n",
    "        'is_win': 1 if row['home_club_goals'] > row['away_club_goals'] else (0 if row['home_club_goals'] < row['away_club_goals'] else -1)\n",
    "    }\n",
    "    \n",
    "    away_row = {\n",
    "        'game_id': row['game_id'],\n",
    "        'club_id': row['away_club_id'],\n",
    "        'date': row['date'],\n",
    "        'competition_id': row['competition_id'],\n",
    "        'season': row['season'],\n",
    "        'round': row['round'],\n",
    "        'goals_ricevuti': row['home_club_goals'],\n",
    "        'goals_fatti': row['away_club_goals'],\n",
    "        'numero_di_cartellini': count_cards(row['game_id'], row['away_club_id']),\n",
    "        'is_win': 1 if row['away_club_goals'] > row['home_club_goals'] else (0 if row['away_club_goals'] < row['home_club_goals'] else -1)\n",
    "    }\n",
    "    \n",
    "    transformed_games.append(home_row)\n",
    "    transformed_games.append(away_row)\n",
    "\n",
    "# Convertiamo la struttura in un dataframe di panda e salviamolo in un nuovo csv\n",
    "transformed_games_df = pd.DataFrame(transformed_games)\n",
    "\n",
    "transformed_games_df.to_csv('transformed_games.csv', index=False)"
   ],
   "id": "6cd810ed1990e87d",
   "outputs": [],
   "execution_count": 69
  },
  {
   "metadata": {
    "ExecuteTime": {
     "end_time": "2024-07-02T08:36:02.319859Z",
     "start_time": "2024-07-02T08:36:02.144591Z"
    }
   },
   "cell_type": "code",
   "source": "games_df = pd.read_csv('./data/transformed_games.csv')\n",
   "id": "e8cfe5ba47bc3936",
   "outputs": [],
   "execution_count": 60
  },
  {
   "metadata": {},
   "cell_type": "markdown",
   "source": "## Data Cleaning:",
   "id": "e8ff3c680951342f"
  },
  {
   "metadata": {},
   "cell_type": "markdown",
   "source": "### 1) Distribuzione dei valori di numero_cartellini:",
   "id": "5be679edd66fc2d6"
  },
  {
   "metadata": {
    "ExecuteTime": {
     "end_time": "2024-07-02T08:58:20.997330Z",
     "start_time": "2024-07-02T08:58:20.945264Z"
    }
   },
   "cell_type": "code",
   "source": [
    "# Intanto vediamo qual'è la distribuzione del numero di cartellini \n",
    "print(f' Massimo e minimo tra i valori di numero_di_cartellini: \\n {games_df['numero_di_cartellini'].min()} {games_df['numero_di_cartellini'].max()}')\n",
    "\n",
    "# Vediamo che il massimo è 11 cartellini, che essendo veramente tanti sarebbe meglio controllare il numero di record per ciascun valore \n",
    "(games_df['numero_di_cartellini']).value_counts().sort_index()\n",
    "\n",
    "# Vediamo che il numero di record con un valore di numero cartellini compreso tra 5 e 11 è davvero basso. Ciò potrebbe portare a risultati fallati. \n",
    "# Potrebbe essere una buona idea raggruppare i valori maggiori di 4 in un unica etichetta '5+'\n",
    "games_df['numero_di_cartellini'] = games_df['numero_di_cartellini'].apply(lambda x: 5 if x >= 5 else x)\n",
    "(games_df['numero_di_cartellini']).value_counts().sort_index()\n"
   ],
   "id": "af56ff022add7a04",
   "outputs": [
    {
     "name": "stdout",
     "output_type": "stream",
     "text": [
      " Massimo e minimo tra i valori di numero_di_cartellini: \n",
      " 0 5\n"
     ]
    },
    {
     "data": {
      "text/plain": [
       "numero_di_cartellini\n",
       "0    105375\n",
       "1      6872\n",
       "2      7440\n",
       "3      5522\n",
       "4      3070\n",
       "5      2153\n",
       "Name: count, dtype: int64"
      ]
     },
     "execution_count": 70,
     "metadata": {},
     "output_type": "execute_result"
    }
   ],
   "execution_count": 70
  },
  {
   "metadata": {},
   "cell_type": "markdown",
   "source": "# Analisi:",
   "id": "e0a21b2de8ea4f24"
  },
  {
   "metadata": {},
   "cell_type": "markdown",
   "source": [
    " La prima cosa che possiamo considerare è la differenza di probabilità di sconfitta in base al numero di cartellini ricevuti \n",
    " Per poter visualizzare questa eventualità utilizzeremo una heatmap per mettere in relazione la probabilità di sconfitta con il numero di cartellini ricevuti"
   ],
   "id": "31e512cb28854aed"
  },
  {
   "metadata": {
    "ExecuteTime": {
     "end_time": "2024-07-02T08:37:52.788182Z",
     "start_time": "2024-07-02T08:37:52.544840Z"
    }
   },
   "cell_type": "code",
   "source": [
    "# Filtrare le partite con numero di cartellini maggiore di 0\n",
    "games_with_cards = (games_df[games_df['numero_di_cartellini'] > 0]).copy()\n",
    "\n",
    "games_with_cards.loc[:, 'is_loss'] = games_with_cards['is_win'].apply(lambda x: 1 if x == 0 else 0) # per semplicità aggiungiamo una colona is_loss\n",
    "\n",
    "# contiene come index il numero di cartellini e come valore la probabilità di sconfitta\n",
    "pivot_table = games_with_cards.pivot_table(values='is_loss', index='numero_di_cartellini', aggfunc='mean') \n",
    "\n",
    "plt.figure(figsize=(12, 6))\n",
    "sns.color_palette(\"hls\", 8)\n",
    "sns.heatmap(pivot_table, annot=True, cmap='tab10', cbar_kws={'label': 'Probability of Losing'})\n",
    "plt.title('Heatmap of Probability of Losing vs. Number of Cards Received')\n",
    "plt.xlabel('Probability of Losing')\n",
    "plt.ylabel('Number of Cards Received')\n",
    "plt.show()\n"
   ],
   "id": "59e9c0d9fdc56a74",
   "outputs": [
    {
     "data": {
      "text/plain": [
       "<Figure size 1200x600 with 2 Axes>"
      ],
      "image/png": "[encoded data removed]"
     },
     "metadata": {},
     "output_type": "display_data"
    }
   ],
   "execution_count": 65
  },
  {
   "metadata": {},
   "cell_type": "markdown",
   "source": "Sembra effettivamente che la probabilità di sconfitta aumenti all'aumentare dell'numero di cartellini",
   "id": "4429f984ac36320a"
  },
  {
   "metadata": {},
   "cell_type": "markdown",
   "source": "",
   "id": "36ba3c4ec532d879"
  },
  {
   "metadata": {
    "ExecuteTime": {
     "end_time": "2024-07-02T08:02:56.374668Z",
     "start_time": "2024-07-02T08:02:56.371217Z"
    }
   },
   "cell_type": "code",
   "source": "\n",
   "id": "b3c5c963a46672e1",
   "outputs": [],
   "execution_count": 1
  },
  {
   "metadata": {
    "ExecuteTime": {
     "end_time": "2024-07-01T10:54:12.980061Z",
     "start_time": "2024-07-01T10:54:12.976841Z"
    }
   },
   "cell_type": "code",
   "source": "",
   "id": "738cde8abe5d0ce1",
   "outputs": [],
   "execution_count": 119
  },
  {
   "metadata": {
    "ExecuteTime": {
     "end_time": "2024-07-01T10:54:15.060154Z",
     "start_time": "2024-07-01T10:54:15.056289Z"
    }
   },
   "cell_type": "code",
   "source": "",
   "id": "38ef60897d412540",
   "outputs": [],
   "execution_count": 119
  }
 ],
 "metadata": {
  "kernelspec": {
   "display_name": "Python 3",
   "language": "python",
   "name": "python3"
  },
  "language_info": {
   "codemirror_mode": {
    "name": "ipython",
    "version": 2
   },
   "file_extension": ".py",
   "mimetype": "text/x-python",
   "name": "python",
   "nbconvert_exporter": "python",
   "pygments_lexer": "ipython2",
   "version": "2.7.6"
  }
 },
 "nbformat": 4,
 "nbformat_minor": 5
}
